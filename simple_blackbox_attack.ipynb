{
 "cells": [
  {
   "attachments": {},
   "cell_type": "markdown",
   "metadata": {},
   "source": [
    "# Replicating [Simple Black-box Adversarial Attacks](https://arxiv.org/pdf/1905.07121.pdf)\n",
    "\n",
    "This notebook uses the replicate of the Simple Black-box Adversarial attack proposed by Guo et al. [More explanation]"
   ]
  },
  {
   "cell_type": "code",
   "execution_count": null,
   "metadata": {},
   "outputs": [],
   "source": [
    "# necessary imports\n",
    "# pylint: disable-msg=C0114,C0413,E0401,W0621,W0511\n",
    "\n",
    "import matplotlib.pyplot as plt\n",
    "import numpy as np\n",
    "import random\n",
    "import torch\n",
    "from torchvision import transforms\n",
    "\n",
    "from imagenet.imagenet import ImageNetDataSet\n",
    "from simple_blackbox_attack.cartesian_set import CartesianSearchVectors\n",
    "from simple_blackbox_attack.dct_set import DCTSearchVectors\n",
    "from simple_blackbox_attack.simba.simba import simba\n",
    "from simple_blackbox_attack.simba.figure1 import simba_best_epsilon"
   ]
  },
  {
   "attachments": {},
   "cell_type": "markdown",
   "metadata": {},
   "source": [
    "Folder of the ImageNet ILSVRC2012 validation dataset, its labels in the meta data. Note: After accessing [login-access to the ImagNet website](https://image-net.org/signup.php), go to the [ImageNet 2012 version](https://image-net.org/challenges/LSVRC/2012/2012-downloads.php) and download\n",
    "* Development kit (Task 1 & 2). 2.5MB. - containing the labels and the meta data\n",
    "* Validation images (all tasks). 6.3GB. - the validation images\n",
    "\n",
    "Extract both and assign the locations of the folder and files to the corresponding Constants:"
   ]
  },
  {
   "cell_type": "code",
   "execution_count": null,
   "metadata": {},
   "outputs": [],
   "source": [
    "IMAGE_FOLDER = \"../../../shared/data/imagenet/val\"\n",
    "LABEL_FILE = \"../../../shared/data/imagenet/ILSVRC2012_devkit_t12/data/ILSVRC2012_validation_ground_truth.txt\"\n",
    "META_FILE = \"../../../shared/data/imagenet/ILSVRC2012_devkit_t12/data/meta.mat\""
   ]
  },
  {
   "attachments": {},
   "cell_type": "markdown",
   "metadata": {},
   "source": [
    "Let's get the data."
   ]
  },
  {
   "cell_type": "code",
   "execution_count": null,
   "metadata": {},
   "outputs": [],
   "source": [
    "preprocess = transforms.Compose(\n",
    "    [\n",
    "        transforms.Resize(256),\n",
    "        transforms.CenterCrop(224),\n",
    "        transforms.ToTensor(),\n",
    "        transforms.Normalize(mean=[0.485, 0.456, 0.406], std=[0.229, 0.224, 0.225]),\n",
    "    ]\n",
    ")\n",
    "dataset = ImageNetDataSet(image_root=IMAGE_FOLDER, label_file=LABEL_FILE, meta_file=META_FILE, transform=preprocess)"
   ]
  },
  {
   "attachments": {},
   "cell_type": "markdown",
   "metadata": {},
   "source": [
    "And let's see if everything worked out as expected."
   ]
  },
  {
   "cell_type": "code",
   "execution_count": null,
   "metadata": {},
   "outputs": [],
   "source": [
    "figure = plt.figure(figsize=(8, 8))\n",
    "cols, rows = 3, 3\n",
    "for i in range(1, cols * rows + 1):\n",
    "    sample_idx = torch.randint(len(dataset), size=(1,)).item()\n",
    "    img, label = dataset[sample_idx]\n",
    "    figure.add_subplot(rows, cols, i)\n",
    "    plt.title(dataset.meta.loc[label, \"label_str\"])\n",
    "    plt.axis(\"off\")\n",
    "    plt.imshow(img.squeeze().permute(1, 2, 0))\n",
    "plt.show()"
   ]
  },
  {
   "attachments": {},
   "cell_type": "markdown",
   "metadata": {},
   "source": [
    "## Classifying with pre-trained ResNet50"
   ]
  },
  {
   "attachments": {},
   "cell_type": "markdown",
   "metadata": {},
   "source": [
    "Let's use gpu, if available:"
   ]
  },
  {
   "cell_type": "code",
   "execution_count": null,
   "metadata": {},
   "outputs": [],
   "source": [
    "DEVICE = \"cuda\" if torch.cuda.is_available() else \"mps\" if torch.backends.mps.is_available() else \"cpu\""
   ]
  },
  {
   "cell_type": "code",
   "execution_count": null,
   "metadata": {},
   "outputs": [],
   "source": [
    "model = torch.hub.load(\"pytorch/vision:v0.10.0\", \"resnet18\", pretrained=True).to(DEVICE)\n",
    "model.eval()\n",
    "\n",
    "for _ in range(16):\n",
    "    sample_idx = torch.randint(len(dataset), size=(1,)).item()\n",
    "    img, label = dataset[sample_idx]\n",
    "    img = img.to(DEVICE)\n",
    "    with torch.no_grad():\n",
    "        logits = model(img.unsqueeze(0))\n",
    "    probabilities = torch.nn.functional.softmax(logits[0], dim=0)\n",
    "    probs, predictions = torch.topk(probabilities, 3)\n",
    "    print(f\"The actual label is {int(label)}\")\n",
    "    print(f\"the model thinks it is {predictions} with probability {probs}\")\n",
    "    if int(label) == predictions[0] and probs[0] > 0.9:\n",
    "        print(\"Correct prediction! And high confidence! Proceeding with this image.\")\n",
    "        image = img\n",
    "        break"
   ]
  },
  {
   "attachments": {},
   "cell_type": "markdown",
   "metadata": {},
   "source": [
    "# Adversarial Attack"
   ]
  },
  {
   "attachments": {},
   "cell_type": "markdown",
   "metadata": {},
   "source": [
    "Let's define the L2-budget we allow the attack."
   ]
  },
  {
   "cell_type": "code",
   "execution_count": null,
   "metadata": {},
   "outputs": [],
   "source": [
    "BUDGET = 8.0"
   ]
  },
  {
   "attachments": {},
   "cell_type": "markdown",
   "metadata": {},
   "source": [
    "Let's define a simple basis."
   ]
  },
  {
   "cell_type": "code",
   "execution_count": null,
   "metadata": {},
   "outputs": [],
   "source": [
    "basis = CartesianSearchVectors(image.size())"
   ]
  },
  {
   "attachments": {},
   "cell_type": "markdown",
   "metadata": {},
   "source": [
    "And find pertubation for the example image."
   ]
  },
  {
   "cell_type": "code",
   "execution_count": null,
   "metadata": {},
   "outputs": [],
   "source": [
    "_, pertubation, steps, queries, _ = simba(\n",
    "    model, image, int(label), basis, step_size=BUDGET / 50, budget=BUDGET\n",
    ")\n",
    "logits = model((image + pertubation).unsqueeze(0))\n",
    "probabilities = torch.nn.functional.softmax(logits[0], dim=0)\n",
    "probability, prediction = torch.topk(probabilities, 1)"
   ]
  },
  {
   "attachments": {},
   "cell_type": "markdown",
   "metadata": {},
   "source": [
    "Let's plot the result."
   ]
  },
  {
   "cell_type": "code",
   "execution_count": null,
   "metadata": {},
   "outputs": [],
   "source": [
    "figure = plt.figure(figsize=(10, 6))\n",
    "figure.add_subplot(1, 3, 1)\n",
    "plt.title(f\"Original\\n{dataset.meta.loc[label, 'label_str']} - {probs[0]*100:.2f}%\")\n",
    "plt.axis(\"off\")\n",
    "plt.imshow(img.squeeze().permute(1, 2, 0).cpu())\n",
    "figure.add_subplot(1, 3, 2)\n",
    "plt.title(f\"Perturbation\\n{steps} steps\")\n",
    "plt.axis(\"off\")\n",
    "plt.imshow((pertubation).squeeze().permute(1, 2, 0).cpu())\n",
    "figure.add_subplot(1, 3, 3)\n",
    "plt.title(f\"Image+Perturbation ({probabilities[int(label)]*100:.2f}%)\\n{queries} queries\")\n",
    "plt.axis(\"off\")\n",
    "plt.imshow((image + pertubation).squeeze().permute(1, 2, 0).cpu())\n",
    "plt.show()"
   ]
  },
  {
   "attachments": {},
   "cell_type": "markdown",
   "metadata": {},
   "source": [
    "## DCT Basis"
   ]
  },
  {
   "cell_type": "code",
   "execution_count": null,
   "metadata": {},
   "outputs": [],
   "source": [
    "basis = DCTSearchVectors(image.size(), 1 / 8)\n",
    "_, pertubation, steps, queries, _ = simba(\n",
    "    model, image, int(label), basis, step_size=BUDGET / 50, budget=BUDGET\n",
    ")\n",
    "logits = model((image + pertubation).unsqueeze(0))\n",
    "probabilities = torch.nn.functional.softmax(logits[0], dim=0)\n",
    "probability, prediction = torch.topk(probabilities, 1)"
   ]
  },
  {
   "attachments": {},
   "cell_type": "markdown",
   "metadata": {},
   "source": [
    "Let's plot the results."
   ]
  },
  {
   "cell_type": "code",
   "execution_count": null,
   "metadata": {},
   "outputs": [],
   "source": [
    "figure = plt.figure(figsize=(10, 6))\n",
    "figure.add_subplot(1, 3, 1)\n",
    "plt.title(f\"Original\\n{dataset.meta.loc[label, 'label_str']} - {probs[0]*100:.2f}%\")\n",
    "plt.axis(\"off\")\n",
    "plt.imshow(img.squeeze().permute(1, 2, 0).cpu())\n",
    "figure.add_subplot(1, 3, 2)\n",
    "plt.title(f\"Perturbation\\n{steps} steps\")\n",
    "plt.axis(\"off\")\n",
    "plt.imshow((pertubation).squeeze().permute(1, 2, 0).cpu())\n",
    "figure.add_subplot(1, 3, 3)\n",
    "plt.title(f\"Image+Perturbation ({probabilities[int(label)]*100:.2f}%)\\n{queries} queries\")\n",
    "plt.axis(\"off\")\n",
    "plt.imshow((image + pertubation).squeeze().permute(1, 2, 0).cpu())\n",
    "plt.show()"
   ]
  },
  {
   "attachments": {},
   "cell_type": "markdown",
   "metadata": {},
   "source": [
    "# Replicating results"
   ]
  },
  {
   "attachments": {},
   "cell_type": "markdown",
   "metadata": {},
   "source": [
    "Let's sample 1000 images from ImageNet which are classified correctly."
   ]
  },
  {
   "cell_type": "code",
   "execution_count": null,
   "metadata": {},
   "outputs": [],
   "source": [
    "indices = []\n",
    "while len(indices) < 1000:\n",
    "    sample_idx = torch.randint(len(dataset), size=(1,)).item()\n",
    "    img, label = dataset[sample_idx]\n",
    "    img = img.to(DEVICE)\n",
    "    with torch.no_grad():\n",
    "        logits = model(img.unsqueeze(0))\n",
    "    probabilities = torch.nn.functional.softmax(logits[0], dim=0)\n",
    "    probs, predictions = torch.topk(probabilities, 1)\n",
    "    if int(label) == predictions[0]:\n",
    "        indices.append(sample_idx)"
   ]
  },
  {
   "attachments": {},
   "cell_type": "markdown",
   "metadata": {},
   "source": [
    "## Figure 2"
   ]
  },
  {
   "attachments": {},
   "cell_type": "markdown",
   "metadata": {},
   "source": [
    "_Comparison of success rate and average L2-norm versus number of model queries for untargeted (left) and targeted (right) attacks._"
   ]
  },
  {
   "cell_type": "code",
   "execution_count": 24,
   "metadata": {},
   "outputs": [
    {
     "name": "stdout",
     "output_type": "stream",
     "text": [
      "0\n",
      "0: Label probability 0.9885 - queries 2\n",
      "512: Label probability 0.9375 - queries 1391\n",
      "1024: Label probability 0.6812 - queries 2815\n",
      "cart successful\n",
      "0: Label probability 0.9885 - queries 6\n",
      "512: Label probability 0.7425 - queries 1225\n",
      "dct successful\n",
      "1\n",
      "0: Label probability 0.9991 - queries 1\n",
      "512: Label probability 0.9979 - queries 1340\n",
      "1024: Label probability 0.9953 - queries 2615\n",
      "1536: Label probability 0.9900 - queries 3923\n",
      "2048: Label probability 0.9797 - queries 5287\n",
      "2560: Label probability 0.9571 - queries 6635\n",
      "3072: Label probability 0.9163 - queries 7977\n",
      "3584: Label probability 0.8468 - queries 9349\n",
      "4096: Label probability 0.7304 - queries 10733\n",
      "4608: Label probability 0.5713 - queries 12065\n",
      "5120: Label probability 0.3876 - queries 13454\n",
      "cart successful\n",
      "0: Label probability 0.9991 - queries 1\n",
      "512: Label probability 0.9931 - queries 1210\n",
      "1024: Label probability 0.9565 - queries 2549\n",
      "1536: Label probability 0.7951 - queries 3933\n",
      "Evaluated all vectors\n",
      "0: Label probability 0.6341 - queries 1\n",
      "Evaluated all vectors\n",
      "0: Label probability 0.5561 - queries 2\n",
      "Evaluated all vectors\n",
      "0: Label probability 0.4965 - queries 3\n",
      "Evaluated all vectors\n",
      "0: Label probability 0.4477 - queries 8\n",
      "Evaluated all vectors\n",
      "0: Label probability 0.4111 - queries 3\n",
      "Evaluated all vectors\n",
      "0: Label probability 0.3767 - queries 2\n",
      "Evaluated all vectors\n",
      "0: Label probability 0.3500 - queries 4\n",
      "Evaluated all vectors\n",
      "0: Label probability 0.3294 - queries 2\n",
      "Evaluated all vectors\n",
      "0: Label probability 0.3061 - queries 8\n",
      "dct successful\n",
      "2\n",
      "0: Label probability 0.5820 - queries 1\n",
      "512: Label probability 0.4063 - queries 1375\n",
      "cart successful\n",
      "0: Label probability 0.5820 - queries 2\n",
      "dct successful\n",
      "3\n",
      "0: Label probability 0.9958 - queries 1\n",
      "512: Label probability 0.9899 - queries 1318\n",
      "1024: Label probability 0.9755 - queries 2646\n",
      "1536: Label probability 0.9405 - queries 3981\n",
      "2048: Label probability 0.8612 - queries 5292\n",
      "2560: Label probability 0.7245 - queries 6609\n",
      "3072: Label probability 0.5191 - queries 7969\n",
      "cart successful\n",
      "0: Label probability 0.9958 - queries 1\n",
      "512: Label probability 0.9705 - queries 1226\n",
      "1024: Label probability 0.8482 - queries 2610\n",
      "1536: Label probability 0.4848 - queries 4081\n",
      "dct successful\n",
      "4\n",
      "0: Label probability 0.9832 - queries 1\n",
      "512: Label probability 0.9036 - queries 1279\n",
      "1024: Label probability 0.6480 - queries 2680\n",
      "cart successful\n",
      "0: Label probability 0.9832 - queries 4\n",
      "512: Label probability 0.7053 - queries 1345\n",
      "dct successful\n",
      "5\n",
      "0: Label probability 0.9501 - queries 4\n",
      "512: Label probability 0.9050 - queries 1309\n",
      "1024: Label probability 0.8289 - queries 2598\n",
      "1536: Label probability 0.7094 - queries 3935\n",
      "2048: Label probability 0.5508 - queries 5285\n",
      "cart successful\n",
      "0: Label probability 0.9501 - queries 2\n",
      "512: Label probability 0.6900 - queries 1234\n",
      "dct successful\n",
      "6\n",
      "0: Label probability 0.8868 - queries 2\n",
      "512: Label probability 0.7987 - queries 1229\n",
      "1024: Label probability 0.6665 - queries 2514\n",
      "1536: Label probability 0.4783 - queries 3822\n",
      "cart successful\n",
      "0: Label probability 0.8868 - queries 2\n",
      "512: Label probability 0.4404 - queries 1197\n",
      "dct successful\n",
      "7\n",
      "0: Label probability 0.3728 - queries 2\n",
      "512: Label probability 0.2860 - queries 1274\n",
      "cart successful\n",
      "0: Label probability 0.3728 - queries 4\n",
      "512: Label probability 0.2276 - queries 1449\n",
      "dct successful\n"
     ]
    }
   ],
   "source": [
    "number_images = 8\n",
    "\n",
    "query_resolution = 2048\n",
    "success_rate = np.zeros((number_images, query_resolution))\n",
    "l2_norms = np.zeros((number_images, int(20000 / 64)))\n",
    "success_rate_dct = np.zeros((number_images, query_resolution))\n",
    "l2_norms_dct = np.zeros((number_images, int(20000 / 64)))\n",
    "\n",
    "for i in range(number_images):\n",
    "    print(i)\n",
    "    index = random.choice(indices)\n",
    "    img, label = dataset[index]\n",
    "    img = img.to(DEVICE)\n",
    "    \n",
    "    base = CartesianSearchVectors(img.size())\n",
    "    base_dct = DCTSearchVectors(img.size(), 1/8)\n",
    "\n",
    "    was_successful, _, _, queries, l2_norm = simba(model, img, int(label), base, 0.2, 200)\n",
    "    if was_successful:\n",
    "        print(\"cart successful\")\n",
    "        success_rate[i, int(queries / (20000 / query_resolution)) :] = 1\n",
    "        l2_norms[i, :] = np.pad(\n",
    "            np.array(l2_norm),\n",
    "            pad_width=(0, l2_norms.shape[1] - len(l2_norm)),\n",
    "            mode=\"edge\",\n",
    "        ) \n",
    "    was_successful_dct, pertubation, _, queries_dct, l2_norm_dct = simba(model, img, int(label), base_dct, 0.2, 200)\n",
    "    while len(base_dct.frequency_dimensions) == 0: # not pretty but with current structure only this way possible\n",
    "        base_dct = DCTSearchVectors(img.size(), 1/32)\n",
    "        was_successful_dct, tmp_p, _, tmp_q, tmp_l2 = simba(model, img + pertubation, int(label), base_dct, 0.2, 1e10)\n",
    "        pertubation += tmp_p\n",
    "        queries_dct += tmp_q\n",
    "        l2_norm_dct += tmp_l2\n",
    "    if was_successful_dct:\n",
    "        print(\"dct successful\")\n",
    "        success_rate_dct[i, int(queries_dct / (20000 / query_resolution)) :] = 1\n",
    "        l2_norms_dct[i, :] = np.pad(\n",
    "            np.array(l2_norm_dct),\n",
    "            pad_width=(0, l2_norms_dct.shape[1] - len(l2_norm_dct)),\n",
    "            mode=\"edge\",\n",
    "        )"
   ]
  },
  {
   "cell_type": "code",
   "execution_count": 25,
   "metadata": {},
   "outputs": [
    {
     "data": {
      "image/png": "[encoded data removed]",
      "text/plain": [
       "<Figure size 800x400 with 3 Axes>"
      ]
     },
     "metadata": {},
     "output_type": "display_data"
    }
   ],
   "source": [
    "figure = plt.figure(figsize=(8, 4))\n",
    "ax = figure.add_subplot(1, 2, 1)\n",
    "ax.grid(\"on\")\n",
    "ax.plot(np.linspace(0, 20000, query_resolution), success_rate.sum(axis=0) / number_images, color=\"r\", label=\"SimBA\")\n",
    "ax.plot(np.linspace(0, 20000, query_resolution), success_rate_dct.sum(axis=0) / number_images, color=\"y\", label=\"SimBA-DCT\")\n",
    "plt.title(\"Untargeted\")\n",
    "plt.xlabel(\"Queries\")\n",
    "plt.xlim([0, 20000])\n",
    "plt.ylabel(\"Success rate\")\n",
    "ax.set(ylim=[0, 1])\n",
    "\n",
    "ax.legend(loc='lower right')\n",
    "\n",
    "ax2 = ax.twinx()\n",
    "ax2.spines[\"right\"].set_position((\"axes\", 1.0))\n",
    "\n",
    "ax2.set(ylim=[0, 9])\n",
    "ax2.plot(np.linspace(0, 20000, int(20000/64)), l2_norms[l2_norms.sum(axis=1) != 0].mean(axis=0), color=\"r\", linestyle=\":\")\n",
    "ax2.plot(np.linspace(0, 20000, int(20000/64)), l2_norms_dct[l2_norms_dct.sum(axis=1) != 0].mean(axis=0), color=\"y\", linestyle=\":\")\n",
    "ax2.plot(0, 0, color=\"k\", label=\"Success Rate\")\n",
    "ax2.plot(0, 0, color=\"k\", label=\"Average L2-norm\", linestyle=\":\")\n",
    "plt.ylabel(\"Average L2-norm\")\n",
    "\n",
    "ax2.legend()\n",
    "\n",
    "ax = figure.add_subplot(1, 2, 2)\n",
    "plt.title(\"Targetted attack not implemented yet\")\n",
    "plt.xlabel(\"Queries\")\n",
    "plt.xlim([0, 20000])\n",
    "plt.tight_layout()\n",
    "plt.show()"
   ]
  }
 ],
 "metadata": {
  "kernelspec": {
   "display_name": ".venv",
   "language": "python",
   "name": "python3"
  },
  "language_info": {
   "codemirror_mode": {
    "name": "ipython",
    "version": 3
   },
   "file_extension": ".py",
   "mimetype": "text/x-python",
   "name": "python",
   "nbconvert_exporter": "python",
   "pygments_lexer": "ipython3",
   "version": "3.8.10"
  },
  "orig_nbformat": 4,
  "vscode": {
   "interpreter": {
    "hash": "b08ee5c3616b8700d7e6be1f1ebe93d911fe72a130f2e33dfee92f082b529653"
   }
  }
 },
 "nbformat": 4,
 "nbformat_minor": 2
}
