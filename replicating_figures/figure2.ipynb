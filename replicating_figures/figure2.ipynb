{
 "cells": [
  {
   "attachments": {},
   "cell_type": "markdown",
   "metadata": {},
   "source": [
    "# Figure 2\n",
    "\n",
    "_Comparison of success rate and average L2-norm versus number of model queries for untargeted (left) and targeted (right) attacks._"
   ]
  },
  {
   "attachments": {},
   "cell_type": "markdown",
   "metadata": {},
   "source": [
    "## Imports"
   ]
  },
  {
   "cell_type": "code",
   "execution_count": 2,
   "metadata": {},
   "outputs": [],
   "source": [
    "# pylint: disable-msg=C0114,C0413,E0401,W0621,W0511,R0801\n",
    "\n",
    "import os\n",
    "import sys\n",
    "\n",
    "module_path = os.path.abspath(os.path.join(\"..\"))\n",
    "sys.path.append(module_path)\n",
    "\n",
    "import random  # noqa\n",
    "\n",
    "import matplotlib.pyplot as plt  # noqa\n",
    "import numpy as np  # noqa\n",
    "import torch  # noqa\n",
    "from torchvision import transforms  # noqa\n",
    "\n",
    "from imagenet.imagenet import ImageNetDataSet  # noqa\n",
    "from simple_blackbox_attack.cartesian_set import CartesianSearchVectors  # noqa\n",
    "from simple_blackbox_attack.dct_set import DCTSearchVectors  # noqa\n",
    "from simple_blackbox_attack.simba.simba import simba  # noqa"
   ]
  },
  {
   "attachments": {},
   "cell_type": "markdown",
   "metadata": {},
   "source": [
    "## DataSet"
   ]
  },
  {
   "cell_type": "code",
   "execution_count": 3,
   "metadata": {},
   "outputs": [],
   "source": [
    "IMAGE_FOLDER = \"../../../../shared/data/imagenet/val\"\n",
    "LABEL_FILE = \"../../../../shared/data/imagenet/ILSVRC2012_devkit_t12/data/ILSVRC2012_validation_ground_truth.txt\"\n",
    "META_FILE = \"../../../../shared/data/imagenet/ILSVRC2012_devkit_t12/data/meta.mat\""
   ]
  },
  {
   "cell_type": "code",
   "execution_count": 4,
   "metadata": {},
   "outputs": [],
   "source": [
    "preprocess = transforms.Compose(\n",
    "    [\n",
    "        transforms.Resize(256),\n",
    "        transforms.CenterCrop(224),\n",
    "        transforms.ToTensor(),\n",
    "        transforms.Normalize(mean=[0.485, 0.456, 0.406], std=[0.229, 0.224, 0.225]),\n",
    "    ]\n",
    ")\n",
    "dataset = ImageNetDataSet(image_root=IMAGE_FOLDER, label_file=LABEL_FILE, meta_file=META_FILE, transform=preprocess)"
   ]
  },
  {
   "attachments": {},
   "cell_type": "markdown",
   "metadata": {},
   "source": [
    "## Model (ResNet50)"
   ]
  },
  {
   "cell_type": "code",
   "execution_count": 5,
   "metadata": {},
   "outputs": [
    {
     "name": "stderr",
     "output_type": "stream",
     "text": [
      "Using cache found in /home/dai/eko/.cache/torch/hub/pytorch_vision_v0.10.0\n",
      "/home/dai/eko/.cache/pypoetry/virtualenvs/replicating-simple-blackbox-attack-BJnlChmF-py3.8/lib/python3.8/site-packages/torchvision/models/_utils.py:208: UserWarning: The parameter 'pretrained' is deprecated since 0.13 and may be removed in the future, please use 'weights' instead.\n",
      "  warnings.warn(\n",
      "/home/dai/eko/.cache/pypoetry/virtualenvs/replicating-simple-blackbox-attack-BJnlChmF-py3.8/lib/python3.8/site-packages/torchvision/models/_utils.py:223: UserWarning: Arguments other than a weight enum or `None` for 'weights' are deprecated since 0.13 and may be removed in the future. The current behavior is equivalent to passing `weights=ResNet18_Weights.IMAGENET1K_V1`. You can also use `weights=ResNet18_Weights.DEFAULT` to get the most up-to-date weights.\n",
      "  warnings.warn(msg)\n"
     ]
    },
    {
     "data": {
      "text/plain": [
       "ResNet(\n",
       "  (conv1): Conv2d(3, 64, kernel_size=(7, 7), stride=(2, 2), padding=(3, 3), bias=False)\n",
       "  (bn1): BatchNorm2d(64, eps=1e-05, momentum=0.1, affine=True, track_running_stats=True)\n",
       "  (relu): ReLU(inplace=True)\n",
       "  (maxpool): MaxPool2d(kernel_size=3, stride=2, padding=1, dilation=1, ceil_mode=False)\n",
       "  (layer1): Sequential(\n",
       "    (0): BasicBlock(\n",
       "      (conv1): Conv2d(64, 64, kernel_size=(3, 3), stride=(1, 1), padding=(1, 1), bias=False)\n",
       "      (bn1): BatchNorm2d(64, eps=1e-05, momentum=0.1, affine=True, track_running_stats=True)\n",
       "      (relu): ReLU(inplace=True)\n",
       "      (conv2): Conv2d(64, 64, kernel_size=(3, 3), stride=(1, 1), padding=(1, 1), bias=False)\n",
       "      (bn2): BatchNorm2d(64, eps=1e-05, momentum=0.1, affine=True, track_running_stats=True)\n",
       "    )\n",
       "    (1): BasicBlock(\n",
       "      (conv1): Conv2d(64, 64, kernel_size=(3, 3), stride=(1, 1), padding=(1, 1), bias=False)\n",
       "      (bn1): BatchNorm2d(64, eps=1e-05, momentum=0.1, affine=True, track_running_stats=True)\n",
       "      (relu): ReLU(inplace=True)\n",
       "      (conv2): Conv2d(64, 64, kernel_size=(3, 3), stride=(1, 1), padding=(1, 1), bias=False)\n",
       "      (bn2): BatchNorm2d(64, eps=1e-05, momentum=0.1, affine=True, track_running_stats=True)\n",
       "    )\n",
       "  )\n",
       "  (layer2): Sequential(\n",
       "    (0): BasicBlock(\n",
       "      (conv1): Conv2d(64, 128, kernel_size=(3, 3), stride=(2, 2), padding=(1, 1), bias=False)\n",
       "      (bn1): BatchNorm2d(128, eps=1e-05, momentum=0.1, affine=True, track_running_stats=True)\n",
       "      (relu): ReLU(inplace=True)\n",
       "      (conv2): Conv2d(128, 128, kernel_size=(3, 3), stride=(1, 1), padding=(1, 1), bias=False)\n",
       "      (bn2): BatchNorm2d(128, eps=1e-05, momentum=0.1, affine=True, track_running_stats=True)\n",
       "      (downsample): Sequential(\n",
       "        (0): Conv2d(64, 128, kernel_size=(1, 1), stride=(2, 2), bias=False)\n",
       "        (1): BatchNorm2d(128, eps=1e-05, momentum=0.1, affine=True, track_running_stats=True)\n",
       "      )\n",
       "    )\n",
       "    (1): BasicBlock(\n",
       "      (conv1): Conv2d(128, 128, kernel_size=(3, 3), stride=(1, 1), padding=(1, 1), bias=False)\n",
       "      (bn1): BatchNorm2d(128, eps=1e-05, momentum=0.1, affine=True, track_running_stats=True)\n",
       "      (relu): ReLU(inplace=True)\n",
       "      (conv2): Conv2d(128, 128, kernel_size=(3, 3), stride=(1, 1), padding=(1, 1), bias=False)\n",
       "      (bn2): BatchNorm2d(128, eps=1e-05, momentum=0.1, affine=True, track_running_stats=True)\n",
       "    )\n",
       "  )\n",
       "  (layer3): Sequential(\n",
       "    (0): BasicBlock(\n",
       "      (conv1): Conv2d(128, 256, kernel_size=(3, 3), stride=(2, 2), padding=(1, 1), bias=False)\n",
       "      (bn1): BatchNorm2d(256, eps=1e-05, momentum=0.1, affine=True, track_running_stats=True)\n",
       "      (relu): ReLU(inplace=True)\n",
       "      (conv2): Conv2d(256, 256, kernel_size=(3, 3), stride=(1, 1), padding=(1, 1), bias=False)\n",
       "      (bn2): BatchNorm2d(256, eps=1e-05, momentum=0.1, affine=True, track_running_stats=True)\n",
       "      (downsample): Sequential(\n",
       "        (0): Conv2d(128, 256, kernel_size=(1, 1), stride=(2, 2), bias=False)\n",
       "        (1): BatchNorm2d(256, eps=1e-05, momentum=0.1, affine=True, track_running_stats=True)\n",
       "      )\n",
       "    )\n",
       "    (1): BasicBlock(\n",
       "      (conv1): Conv2d(256, 256, kernel_size=(3, 3), stride=(1, 1), padding=(1, 1), bias=False)\n",
       "      (bn1): BatchNorm2d(256, eps=1e-05, momentum=0.1, affine=True, track_running_stats=True)\n",
       "      (relu): ReLU(inplace=True)\n",
       "      (conv2): Conv2d(256, 256, kernel_size=(3, 3), stride=(1, 1), padding=(1, 1), bias=False)\n",
       "      (bn2): BatchNorm2d(256, eps=1e-05, momentum=0.1, affine=True, track_running_stats=True)\n",
       "    )\n",
       "  )\n",
       "  (layer4): Sequential(\n",
       "    (0): BasicBlock(\n",
       "      (conv1): Conv2d(256, 512, kernel_size=(3, 3), stride=(2, 2), padding=(1, 1), bias=False)\n",
       "      (bn1): BatchNorm2d(512, eps=1e-05, momentum=0.1, affine=True, track_running_stats=True)\n",
       "      (relu): ReLU(inplace=True)\n",
       "      (conv2): Conv2d(512, 512, kernel_size=(3, 3), stride=(1, 1), padding=(1, 1), bias=False)\n",
       "      (bn2): BatchNorm2d(512, eps=1e-05, momentum=0.1, affine=True, track_running_stats=True)\n",
       "      (downsample): Sequential(\n",
       "        (0): Conv2d(256, 512, kernel_size=(1, 1), stride=(2, 2), bias=False)\n",
       "        (1): BatchNorm2d(512, eps=1e-05, momentum=0.1, affine=True, track_running_stats=True)\n",
       "      )\n",
       "    )\n",
       "    (1): BasicBlock(\n",
       "      (conv1): Conv2d(512, 512, kernel_size=(3, 3), stride=(1, 1), padding=(1, 1), bias=False)\n",
       "      (bn1): BatchNorm2d(512, eps=1e-05, momentum=0.1, affine=True, track_running_stats=True)\n",
       "      (relu): ReLU(inplace=True)\n",
       "      (conv2): Conv2d(512, 512, kernel_size=(3, 3), stride=(1, 1), padding=(1, 1), bias=False)\n",
       "      (bn2): BatchNorm2d(512, eps=1e-05, momentum=0.1, affine=True, track_running_stats=True)\n",
       "    )\n",
       "  )\n",
       "  (avgpool): AdaptiveAvgPool2d(output_size=(1, 1))\n",
       "  (fc): Linear(in_features=512, out_features=1000, bias=True)\n",
       ")"
      ]
     },
     "execution_count": 5,
     "metadata": {},
     "output_type": "execute_result"
    }
   ],
   "source": [
    "DEVICE = \"cuda\" if torch.cuda.is_available() else \"mps\" if torch.backends.mps.is_available() else \"cpu\"\n",
    "model = torch.hub.load(\"pytorch/vision:v0.10.0\", \"resnet18\", pretrained=True).to(DEVICE)\n",
    "model.eval()"
   ]
  },
  {
   "attachments": {},
   "cell_type": "markdown",
   "metadata": {},
   "source": [
    "## Correctly classified images"
   ]
  },
  {
   "cell_type": "code",
   "execution_count": 6,
   "metadata": {},
   "outputs": [],
   "source": [
    "indices = []\n",
    "while len(indices) < 1000:\n",
    "    sample_idx = torch.randint(len(dataset), size=(1,)).item()\n",
    "    img, label = dataset[sample_idx]\n",
    "    img = img.to(DEVICE)\n",
    "    with torch.no_grad():\n",
    "        logits = model(img.unsqueeze(0))\n",
    "    probabilities = torch.nn.functional.softmax(logits[0], dim=0)\n",
    "    probs, predictions = torch.topk(probabilities, 1)\n",
    "    if int(label) == predictions[0]:\n",
    "        indices.append(sample_idx)"
   ]
  },
  {
   "attachments": {},
   "cell_type": "markdown",
   "metadata": {},
   "source": [
    "## Figure 2"
   ]
  },
  {
   "cell_type": "code",
   "execution_count": 7,
   "metadata": {},
   "outputs": [
    {
     "name": "stdout",
     "output_type": "stream",
     "text": [
      "0\n",
      "0: Label probability 0.5563 - queries 1\n",
      "cart successful\n",
      "0: Label probability 0.5563 - queries 1\n",
      "dct successful\n",
      "1\n",
      "0: Label probability 0.6726 - queries 1\n",
      "cart successful\n",
      "0: Label probability 0.6726 - queries 1\n",
      "dct successful\n",
      "2\n",
      "0: Label probability 0.9646 - queries 2\n",
      "512: Label probability 0.8577 - queries 1288\n",
      "1024: Label probability 0.5595 - queries 2653\n",
      "cart successful\n",
      "0: Label probability 0.9646 - queries 1\n",
      "512: Label probability 0.4154 - queries 1211\n",
      "dct successful\n",
      "3\n",
      "0: Label probability 0.3739 - queries 1\n",
      "cart successful\n",
      "0: Label probability 0.3739 - queries 2\n",
      "dct successful\n",
      "4\n",
      "0: Label probability 0.9974 - queries 6\n",
      "512: Label probability 0.9936 - queries 1277\n",
      "1024: Label probability 0.9824 - queries 2616\n",
      "1536: Label probability 0.9539 - queries 3916\n",
      "2048: Label probability 0.8910 - queries 5302\n",
      "2560: Label probability 0.7485 - queries 6642\n",
      "cart successful\n",
      "0: Label probability 0.9974 - queries 2\n",
      "512: Label probability 0.9447 - queries 1195\n",
      "1024: Label probability 0.5078 - queries 2389\n",
      "dct successful\n",
      "5\n",
      "0: Label probability 0.2782 - queries 1\n",
      "cart successful\n",
      "0: Label probability 0.2782 - queries 1\n",
      "dct successful\n",
      "6\n",
      "0: Label probability 0.9546 - queries 2\n",
      "512: Label probability 0.9057 - queries 1257\n",
      "1024: Label probability 0.8209 - queries 2522\n",
      "1536: Label probability 0.6995 - queries 3819\n",
      "2048: Label probability 0.5335 - queries 5101\n",
      "cart successful\n",
      "0: Label probability 0.9546 - queries 2\n",
      "512: Label probability 0.5759 - queries 1112\n",
      "dct successful\n",
      "7\n",
      "0: Label probability 0.6888 - queries 1\n",
      "512: Label probability 0.4203 - queries 1299\n",
      "1024: Label probability 0.1869 - queries 2569\n",
      "cart successful\n",
      "0: Label probability 0.6888 - queries 2\n",
      "dct successful\n"
     ]
    }
   ],
   "source": [
    "NUMBER_IMAGES = 8\n",
    "\n",
    "QUERY_RESOLUTION = 2048\n",
    "success_rate = np.zeros((NUMBER_IMAGES, QUERY_RESOLUTION))\n",
    "l2_norms = np.zeros((NUMBER_IMAGES, int(20000 / 64)))\n",
    "success_rate_dct = np.zeros((NUMBER_IMAGES, QUERY_RESOLUTION))\n",
    "l2_norms_dct = np.zeros((NUMBER_IMAGES, int(20000 / 64)))\n",
    "\n",
    "for i in range(NUMBER_IMAGES):\n",
    "    print(i)\n",
    "    index = random.choice(indices)\n",
    "    img, label = dataset[index]\n",
    "    img = img.to(DEVICE)\n",
    "\n",
    "    base = CartesianSearchVectors(img.size())\n",
    "    base_dct = DCTSearchVectors(img.size(), 1 / 8)\n",
    "\n",
    "    was_successful, _, _, queries, l2_norm = simba(model, img, int(label), base, 0.2, 200)\n",
    "    if was_successful:\n",
    "        print(\"cart successful\")\n",
    "        success_rate[i, int(queries / (20000 / QUERY_RESOLUTION)) :] = 1\n",
    "        l2_norms[i, :] = np.pad(\n",
    "            np.array(l2_norm),\n",
    "            pad_width=(0, l2_norms.shape[1] - len(l2_norm)),\n",
    "            mode=\"edge\",\n",
    "        )\n",
    "    was_successful_dct, pertubation, _, queries_dct, l2_norm_dct = simba(model, img, int(label), base_dct, 0.2, 200)\n",
    "    while len(base_dct.frequency_dimensions) == 0:  # not pretty but with current structure only this way possible\n",
    "        base_dct = DCTSearchVectors(img.size(), 1 / 32)\n",
    "        was_successful_dct, tmp_p, _, tmp_q, tmp_l2 = simba(model, img + pertubation, int(label), base_dct, 0.2, 1e10)\n",
    "        pertubation += tmp_p\n",
    "        queries_dct += tmp_q\n",
    "        l2_norm_dct += tmp_l2\n",
    "    if was_successful_dct:\n",
    "        print(\"dct successful\")\n",
    "        success_rate_dct[i, int(queries_dct / (20000 / QUERY_RESOLUTION)) :] = 1\n",
    "        l2_norms_dct[i, :] = np.pad(\n",
    "            np.array(l2_norm_dct),\n",
    "            pad_width=(0, l2_norms_dct.shape[1] - len(l2_norm_dct)),\n",
    "            mode=\"edge\",\n",
    "        )"
   ]
  },
  {
   "attachments": {},
   "cell_type": "markdown",
   "metadata": {},
   "source": [
    "And plotting the results."
   ]
  },
  {
   "cell_type": "code",
   "execution_count": 8,
   "metadata": {},
   "outputs": [
    {
     "data": {
      "image/png": "[encoded data removed]",
      "text/plain": [
       "<Figure size 800x400 with 3 Axes>"
      ]
     },
     "metadata": {},
     "output_type": "display_data"
    }
   ],
   "source": [
    "figure = plt.figure(figsize=(8, 4))\n",
    "ax = figure.add_subplot(1, 2, 1)\n",
    "ax.grid(\"on\")\n",
    "ax.plot(np.linspace(0, 20000, QUERY_RESOLUTION), success_rate.sum(axis=0) / NUMBER_IMAGES, color=\"r\", label=\"SimBA\")\n",
    "ax.plot(\n",
    "    np.linspace(0, 20000, QUERY_RESOLUTION), success_rate_dct.sum(axis=0) / NUMBER_IMAGES, color=\"y\", label=\"SimBA-DCT\"\n",
    ")\n",
    "plt.title(\"Untargeted\")\n",
    "plt.xlabel(\"Queries\")\n",
    "plt.xlim([0, 20000])\n",
    "plt.ylabel(\"Success rate\")\n",
    "ax.set(ylim=[0, 1])\n",
    "\n",
    "ax.legend(loc=\"lower right\")\n",
    "\n",
    "ax2 = ax.twinx()\n",
    "ax2.spines[\"right\"].set_position((\"axes\", 1.0))\n",
    "\n",
    "ax2.set(ylim=[0, 9])\n",
    "ax2.plot(\n",
    "    np.linspace(0, 20000, int(20000 / 64)), l2_norms[l2_norms.sum(axis=1) != 0].mean(axis=0), color=\"r\", linestyle=\":\"\n",
    ")\n",
    "ax2.plot(\n",
    "    np.linspace(0, 20000, int(20000 / 64)),\n",
    "    l2_norms_dct[l2_norms_dct.sum(axis=1) != 0].mean(axis=0),\n",
    "    color=\"y\",\n",
    "    linestyle=\":\",\n",
    ")\n",
    "ax2.plot(0, 0, color=\"k\", label=\"Success Rate\")\n",
    "ax2.plot(0, 0, color=\"k\", label=\"Average L2-norm\", linestyle=\":\")\n",
    "plt.ylabel(\"Average L2-norm\")\n",
    "\n",
    "ax2.legend()\n",
    "\n",
    "ax = figure.add_subplot(1, 2, 2)\n",
    "plt.title(\"Targetted attack not implemented yet\")\n",
    "plt.xlabel(\"Queries\")\n",
    "plt.xlim([0, 20000])\n",
    "plt.tight_layout()\n",
    "plt.show()"
   ]
  }
 ],
 "metadata": {
  "kernelspec": {
   "display_name": "replicating-simple-blackbox-attack-BJnlChmF-py3.8",
   "language": "python",
   "name": "python3"
  },
  "language_info": {
   "codemirror_mode": {
    "name": "ipython",
    "version": 3
   },
   "file_extension": ".py",
   "mimetype": "text/x-python",
   "name": "python",
   "nbconvert_exporter": "python",
   "pygments_lexer": "ipython3",
   "version": "3.8.10"
  },
  "orig_nbformat": 4
 },
 "nbformat": 4,
 "nbformat_minor": 2
}
